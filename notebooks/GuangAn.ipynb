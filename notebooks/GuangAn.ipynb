{
 "cells": [
  {
   "cell_type": "code",
   "execution_count": 17,
   "metadata": {},
   "outputs": [],
   "source": [
    "import pandas as pd\n",
    "import copy"
   ]
  },
  {
   "cell_type": "code",
   "execution_count": 4,
   "metadata": {},
   "outputs": [
    {
     "data": {
      "text/plain": [
       "{'a': (0, 10), 'b': (0, 100)}"
      ]
     },
     "execution_count": 4,
     "metadata": {},
     "output_type": "execute_result"
    }
   ],
   "source": [
    "# This time only going to define bounds\n",
    "{'a': (0, 10),\n",
    "'b': (0, 100)}"
   ]
  },
  {
   "cell_type": "code",
   "execution_count": 21,
   "metadata": {},
   "outputs": [],
   "source": [
    "def get_initial_coords(bounds):\n",
    "    \"\"\" Function to get initial coordinates to tune \"\"\"\n",
    "\n",
    "    # Algorithm to create all bounds\n",
    "    init_coords = [[bounds[0][i]] for i in range(2)]\n",
    "    for i in range(1, len(bounds)):\n",
    "        old_init_coords = copy.deepcopy(init_coords)\n",
    "        init_coords = list()\n",
    "\n",
    "        values = bounds[i]\n",
    "\n",
    "        for init_coord in old_init_coords:\n",
    "            for value in values:\n",
    "                tmp = copy.deepcopy(init_coord)\n",
    "                tmp.append(value)\n",
    "\n",
    "                init_coords.append(tmp)\n",
    "    \n",
    "    return init_coords"
   ]
  },
  {
   "cell_type": "code",
   "execution_count": 31,
   "metadata": {},
   "outputs": [],
   "source": [
    "def get_new_bounds(bounds, centre):\n",
    "    \"\"\" Function to get new bounds \"\"\"\n",
    "\n",
    "    # get the range components that make the 2^d bounds\n",
    "    range_components = get_range_components(bounds, centre)\n",
    "\n",
    "    # make the new bounds from components\n",
    "    new_bounds = make_bounds(range_components)\n",
    "\n",
    "    return new_bounds\n",
    "\n",
    "\n",
    "\n",
    "def get_range_components(bounds, centre):\n",
    "    \"\"\" Helper that gets the range components \"\"\"\n",
    "\n",
    "    range_components = list()\n",
    "    for i in range(len(bounds)):\n",
    "\n",
    "        lower_range = (bounds[i][0], centre[i]) \n",
    "        upper_range = (centre[i], bounds[i][1]) \n",
    "\n",
    "        ranges = (lower_range, upper_range)\n",
    "\n",
    "        range_components.append(ranges)\n",
    "    \n",
    "    return range_components\n",
    "\n",
    "    \n",
    "\n",
    "def make_bounds(range_components):\n",
    "    \"\"\" Helper that makes the bounds using range components \"\"\"\n",
    "\n",
    "    # Algorithm to create all bounds\n",
    "    bounds = [[range_components[0][i]] for i in range(2)] # hardcode cos bounds can only have 2 values\n",
    "    for i in range(1, len(range_components)):\n",
    "        old_bounds = copy.deepcopy(bounds)\n",
    "        bounds = list()\n",
    "\n",
    "        values = range_components[i]\n",
    "\n",
    "        for bound in old_bounds:\n",
    "            for value in values:\n",
    "                tmp = copy.deepcopy(bound)\n",
    "                tmp.append(value)\n",
    "\n",
    "                bounds.append(tmp)\n",
    "    \n",
    "    return bounds\n",
    "        \n",
    "\n",
    "\n",
    "def get_centre(bounds):\n",
    "    \"\"\" Helper that gets the centre of a bound \"\"\"\n",
    "\n",
    "    centre = list()\n",
    "    for bound in bounds:\n",
    "        centre.append(sum(bound)/2)\n",
    "    \n",
    "    return centre"
   ]
  },
  {
   "cell_type": "code",
   "execution_count": 34,
   "metadata": {},
   "outputs": [],
   "source": [
    "bounds = [(0, 10), (0, 100)]\n",
    "\n",
    "centre = get_centre(bounds)   "
   ]
  },
  {
   "cell_type": "code",
   "execution_count": 35,
   "metadata": {},
   "outputs": [
    {
     "data": {
      "text/plain": [
       "[[(0, 5.0), (0, 50.0), (0, 25.0)],\n",
       " [(0, 5.0), (0, 50.0), (25.0, 50)],\n",
       " [(0, 5.0), (50.0, 100), (0, 25.0)],\n",
       " [(0, 5.0), (50.0, 100), (25.0, 50)],\n",
       " [(5.0, 10), (0, 50.0), (0, 25.0)],\n",
       " [(5.0, 10), (0, 50.0), (25.0, 50)],\n",
       " [(5.0, 10), (50.0, 100), (0, 25.0)],\n",
       " [(5.0, 10), (50.0, 100), (25.0, 50)]]"
      ]
     },
     "execution_count": 35,
     "metadata": {},
     "output_type": "execute_result"
    }
   ],
   "source": [
    "get_new_bounds(bounds, centre)"
   ]
  },
  {
   "cell_type": "code",
   "execution_count": null,
   "metadata": {},
   "outputs": [],
   "source": []
  }
 ],
 "metadata": {
  "kernelspec": {
   "display_name": "base",
   "language": "python",
   "name": "python3"
  },
  "language_info": {
   "codemirror_mode": {
    "name": "ipython",
    "version": 3
   },
   "file_extension": ".py",
   "mimetype": "text/x-python",
   "name": "python",
   "nbconvert_exporter": "python",
   "pygments_lexer": "ipython3",
   "version": "3.9.7"
  },
  "orig_nbformat": 4,
  "vscode": {
   "interpreter": {
    "hash": "cd78fef2128015050713e82ca51c6520b11aee7c9ee8df750520bbbc7384cbaa"
   }
  }
 },
 "nbformat": 4,
 "nbformat_minor": 2
}
