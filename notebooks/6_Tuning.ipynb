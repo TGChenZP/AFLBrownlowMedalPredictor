{
 "cells": [
  {
   "cell_type": "code",
   "execution_count": 1,
   "metadata": {},
   "outputs": [],
   "source": [
    "import pandas as pd\n",
    "import copy\n",
    "import time\n",
    "import numpy as np\n",
    "import random\n",
    "import pickle\n",
    "\n",
    "from sklearn.metrics import r2_score, mean_absolute_percentage_error, mean_squared_error\n",
    "from sklearn.metrics import accuracy_score, f1_score, precision_score, recall_score, balanced_accuracy_score"
   ]
  },
  {
   "cell_type": "code",
   "execution_count": 47,
   "metadata": {},
   "outputs": [],
   "source": [
    "class JiXi:\n",
    "\n",
    "\n",
    "\n",
    "    def __init__(self):\n",
    "        self._initialise_objects()\n",
    "\n",
    "        print('JiXi Initialised')\n",
    "\n",
    "\n",
    "\n",
    "    def _initialise_objects(self):\n",
    "\n",
    "        self.train_x = None\n",
    "        self.train_y = None\n",
    "        self.val_x = None\n",
    "        self.val_y = None\n",
    "        self.test_x = None\n",
    "        self.test_y = None\n",
    "        self.tuning_result = None\n",
    "        self.model = None\n",
    "        self.parameter_choices = None\n",
    "        self.hyperparameters = None\n",
    "        self.checked = None\n",
    "        self.result = None\n",
    "        self.tuning_result = None\n",
    "        self.tuning_result_saving_address = None\n",
    "        self.object_saving_address = None\n",
    "        self._up_to = 0\n",
    "        self._seed = 19421221\n",
    "        self.best_score = 0\n",
    "        self.best_combo = None\n",
    "        self.best_clf = None\n",
    "        self.clf_type = None\n",
    "\n",
    "        self.regression_extra_output_columns = ['Train r2', 'Val r2', 'Test r2', \n",
    "            'Train RMSE', 'Val RMSE', 'Test RMSE', 'Train MAPE', 'Val MAPE', 'Test MAPE', 'Time']\n",
    "        self.classification_extra_output_columns = ['Train accu', 'Val accu', 'Test accu', \n",
    "            'Train balanced_accu', 'Val balanced_accu', 'Test balanced_accu', 'Train f1', 'Val f1', 'Test f1', \n",
    "            'Train precision', 'Val precision', 'Test precision', 'Train recall', 'Val recall', 'Test recall', 'Time']\n",
    "\n",
    "        \n",
    "\n",
    "    def read_in_data(self, train_x, train_y, val_x, val_y, test_x, test_y):\n",
    "\n",
    "        self.train_x = train_x\n",
    "        print(\"Read in Train X data\")\n",
    "\n",
    "        self.train_y = train_y\n",
    "        print(\"Read in Train x data\")\n",
    "\n",
    "        self.val_x = val_x\n",
    "        print(\"Read in Val X data\")\n",
    "\n",
    "        self.val_y = val_y\n",
    "        print(\"Read in Val y data\")\n",
    "\n",
    "        self.test_x = test_x\n",
    "        print(\"Read in Test X data\")\n",
    "\n",
    "        self.test_y = test_y\n",
    "        print(\"Read in Test y data\")\n",
    "\n",
    "\n",
    "\n",
    "    def read_in_model(self, model, type):\n",
    "\n",
    "        assert type == 'Classification' or type == 'Regression'\n",
    "\n",
    "        self.model = model\n",
    "        self.clf_type = type\n",
    "\n",
    "        print(f'Successfully read in model {self.model}, which is a {self.clf_type} model')\n",
    "\n",
    "\n",
    "\n",
    "    def set_parameters(self, parameter_choices):\n",
    "        \n",
    "        self.parameter_choices = parameter_choices\n",
    "\n",
    "        self.hyperparameters = list(parameter_choices.keys())\n",
    "\n",
    "        self.n_items = [len(parameter_choices[key]) for key in self.hyperparameters]\n",
    "\n",
    "        self._get_combinations()\n",
    "        self._get_checked_and_result_array()\n",
    "        self._setup_tuning_result_df()\n",
    "\n",
    "        print(\"Successfully recorded parameter choices\")\n",
    "\n",
    "\n",
    "\n",
    "    def set_tuning_result_saving_address(self, address):\n",
    "        \n",
    "        self.tuning_result_saving_address = address\n",
    "        print('Successfully set tuning output address')\n",
    "\n",
    "\n",
    "    \n",
    "    def _set_object_saving_address(self, address):\n",
    "        \n",
    "        self.object_saving_address = address\n",
    "        print('Successfully set object output address')\n",
    "\n",
    "\n",
    "\n",
    "    def _get_combinations(self):\n",
    "        \n",
    "        self.combos = [[]]\n",
    "        for i in range(len(self.n_items)):\n",
    "\n",
    "            tmp = copy.deepcopy(self.combos)\n",
    "            self.combos = list()\n",
    "\n",
    "            for x in tmp:\n",
    "\n",
    "                for k in range(self.n_items[i]):\n",
    "                    y = copy.deepcopy(x)\n",
    "                    \n",
    "                    y.append(k)\n",
    "\n",
    "                    self.combos.append(y)\n",
    "\n",
    "\n",
    "\n",
    "    def _get_checked_and_result_array(self):\n",
    "\n",
    "        self.checked = np.zeros(shape=self.n_items)\n",
    "        self.result = np.zeros(shape=self.n_items)\n",
    "\n",
    "\n",
    "\n",
    "    def _setup_tuning_result_df(self):\n",
    "\n",
    "        tune_result_columns = copy.deepcopy(self.hyperparameters)\n",
    "\n",
    "        if self.clf_type == 'Classification':\n",
    "            tune_result_columns.extend(self.classification_extra_output_columns)\n",
    "        elif self.clf_type == 'Regression':\n",
    "            tune_result_columns.extend(self.regression_extra_output_columns)\n",
    "\n",
    "        self.tuning_result = pd.DataFrame({col:list() for col in tune_result_columns})\n",
    "\n",
    "\n",
    "    \n",
    "    def change_tuning_style(self, type, seed = None): #TODO\n",
    "        \n",
    "        if type == 'a':\n",
    "            self.combos.sort()\n",
    "            print('Changed tuning order to sorted')\n",
    "        \n",
    "        elif type == 'b':\n",
    "            if seed:\n",
    "                random.seed(seed)\n",
    "            else:\n",
    "                random.seed(self._seed)\n",
    "            \n",
    "            random.shuffle(self.combos)\n",
    "            print('Changed tuning_order to randomised')\n",
    "        \n",
    "        elif type == 'c':\n",
    "            pass\n",
    "\n",
    "        elif type == 'd':\n",
    "            pass\n",
    "\n",
    "\n",
    "    \n",
    "    def tune(self): #TODO\n",
    "        \n",
    "        for combo in self.combos:\n",
    "            \n",
    "            self._up_to += 1\n",
    "\n",
    "            if not self.checked[tuple(combo)]:\n",
    "\n",
    "                self._train_and_test_combo(combo)\n",
    "            \n",
    "            else:\n",
    "                print(f'Already Trained and Tested combination {self._up_to}')\n",
    "            \n",
    "\n",
    "\n",
    "    def _train_and_test_combo(self, combo):\n",
    "        \n",
    "        \n",
    "        combo = tuple(combo)\n",
    "        \n",
    "        params = {self.hyperparameters[i]:self.parameter_choices[self.hyperparameters[i]][combo[i]] for i in range(len(self.hyperparameters))}\n",
    "\n",
    "        # initialise object\n",
    "        clf = self.model(**params)\n",
    "\n",
    "        # get time and fit\n",
    "        start = time.time()\n",
    "        clf.fit(self.train_x, self.train_y)\n",
    "        end = time.time()\n",
    "\n",
    "        # get predicted labels/values for three datasets\n",
    "        train_pred = clf.predict(self.train_x)\n",
    "        val_pred = clf.predict(self.val_x)\n",
    "        test_pred = clf.predict(self.test_x)\n",
    "\n",
    "        # get scores and time used\n",
    "        time_used = end-start\n",
    "\n",
    "        # build output dictionary and save result\n",
    "        df_building_dict = params\n",
    "\n",
    "        if self.clf_type == 'Regression':\n",
    "            train_score = r2_score(self.train_y, train_pred)\n",
    "            val_score = r2_score(self.val_y, val_pred)\n",
    "            test_score = r2_score(self.test_y, test_pred)\n",
    "\n",
    "            train_rmse = np.sqrt(mean_squared_error(self.train_y, train_pred))\n",
    "            val_rmse = np.sqrt(mean_squared_error(self.val_y, val_pred))\n",
    "            test_rmse = np.sqrt(mean_squared_error(self.test_y, test_pred))\n",
    "\n",
    "            train_mape = mean_absolute_percentage_error(self.train_y, train_pred)\n",
    "            val_mape = mean_absolute_percentage_error(self.val_y, val_pred)\n",
    "            test_mape = mean_absolute_percentage_error(self.test_y, test_pred)\n",
    "\n",
    "            df_building_dict['Train r2'] = [np.round(train_score, 4)]\n",
    "            df_building_dict['Val r2'] = [np.round(val_score, 4)]\n",
    "            df_building_dict['Test r2'] = [np.round(test_score, 4)]\n",
    "            df_building_dict['Train RMSE'] = [np.round(train_rmse, 4)]\n",
    "            df_building_dict['Val RMSE'] = [np.round(val_rmse, 4)]\n",
    "            df_building_dict['Test RMSE'] = [np.round(test_rmse, 4)]\n",
    "            df_building_dict['Train MAPE'] = [np.round(train_mape, 4)]\n",
    "            df_building_dict['Val MAPE'] = [np.round(val_mape, 4)]\n",
    "            df_building_dict['Test MAPE'] = [np.round(test_mape, 4)]\n",
    "            df_building_dict['Time'] = [np.round(time_used, 2)]\n",
    "\n",
    "        \n",
    "        elif self.clf_type == 'Classification':\n",
    "            train_score = accuracy_score(self.train_y, train_pred)\n",
    "            val_score = clf.score(self.val_y, val_pred)\n",
    "            test_score = clf.score(self.test_y, test_pred)\n",
    "\n",
    "            train_bal_accu = balanced_accuracy_score(self.train_y, train_pred)\n",
    "            val_bal_accu = balanced_accuracy_score(self.val_y, val_pred)\n",
    "            test_bal_accu = balanced_accuracy_score(self.test_y, test_pred)\n",
    "\n",
    "            train_f1 = f1_score(self.train_y, train_pred, average='weighted')\n",
    "            val_f1 = f1_score(self.val_y, val_pred, average='weighted')\n",
    "            test_f1 = f1_score(self.test_y, test_pred, average='weighted')\n",
    "\n",
    "            train_precision = precision_score(self.train_y, train_pred, average='weighted')\n",
    "            val_precision = precision_score(self.val_y, val_pred, average='weighted')\n",
    "            test_precision = precision_score(self.test_y, test_pred, average='weighted')\n",
    "        \n",
    "            train_recall = recall_score(self.train_y, train_pred, average='weighted')\n",
    "            val_recall = recall_score(self.val_y, val_pred, average='weighted')\n",
    "            test_recall = recall_score(self.test_y, test_pred, average='weighted')\n",
    "\n",
    "            df_building_dict['Train accu'] = [np.round(train_score, 4)]\n",
    "            df_building_dict['Val accu'] = [np.round(val_score, 4)]\n",
    "            df_building_dict['Test accu'] = [np.round(test_score, 4)]\n",
    "            df_building_dict['Train balanced_accuracy'] = [np.round(train_bal_accu, 4)]\n",
    "            df_building_dict['Val balanced_accuracy'] = [np.round(val_bal_accu, 4)]\n",
    "            df_building_dict['Test balanced_accuracy'] = [np.round(test_bal_accu, 4)]\n",
    "            df_building_dict['Train f1'] = [np.round(train_f1, 4)]\n",
    "            df_building_dict['Val f1'] = [np.round(val_f1, 4)]\n",
    "            df_building_dict['Test f1'] = [np.round(test_f1, 4)]\n",
    "            df_building_dict['Train precision'] = [np.round(train_precision, 4)]\n",
    "            df_building_dict['Val precision'] = [np.round(val_precision, 4)]\n",
    "            df_building_dict['Test precision'] = [np.round(test_precision, 4)]\n",
    "            df_building_dict['Train recall'] = [np.round(train_recall, 4)]\n",
    "            df_building_dict['Val recall'] = [np.round(val_recall, 4)]\n",
    "            df_building_dict['Test recall'] = [np.round(test_recall, 4)]\n",
    "            df_building_dict['Time'] = [np.round(time_used, 2)]\n",
    "\n",
    "        tmp = pd.DataFrame(df_building_dict)\n",
    "\n",
    "        self.tuning_result = self.tuning_result.append(tmp)\n",
    "        self._save_tuning_result()\n",
    "\n",
    "        # update best score stats\n",
    "        if val_score > self.best_score: \n",
    "            self.best_score = val_score\n",
    "            self.best_clf = clf\n",
    "            self.best_combo = combo\n",
    "\n",
    "        # update internal governing DataFrames\n",
    "        self.checked[combo] = 1\n",
    "        self.result[combo] = val_score\n",
    "\n",
    "\n",
    "        print(f'''Trained and Tested combination {self._up_to}, taking {np.round(time_used, 2)} seconds\n",
    "        Current best combo: {self.best_combo} with val score {self.best_score}''')\n",
    "\n",
    "\n",
    "\n",
    "    def _save_tuning_result(self):\n",
    "\n",
    "        self.tuning_result.to_csv(self.tuning_result_saving_address, index=False)\n",
    "\n",
    "    \n",
    "\n",
    "    def read_in_tuning_result_df(self, address): \n",
    "        \n",
    "        self.tuning_result = pd.read_csv(address)\n",
    "        print(f\"Successfully read in tuning result of {len(self.tuning_result)} rows\")\n",
    "\n",
    "        self._create_parameter_value_map_index()\n",
    "\n",
    "        # read DataFrame data into internal governing DataFrames of JiXi\n",
    "        for row in self.tuning_result.iterrows():\n",
    "    \n",
    "            combo = tuple([self.parameter_value_map_index[hyperparam][row[1][hyperparam]] for hyperparam in self.hyperparameters])\n",
    "            \n",
    "            self.checked[combo] = 1\n",
    "            \n",
    "            if self.clf_type == 'Regression':\n",
    "                self.result[combo] = row[1]['Val r2']\n",
    "            elif self.clf_type == 'Classification':\n",
    "                self.result[combo] = row[1]['Val accu']\n",
    "        \n",
    "            # update best score stats\n",
    "            if self.result[combo] > self.best_score: \n",
    "                self.best_score = self.result[combo]\n",
    "                self.best_clf = None\n",
    "                print(f\"As new Best Combo {combo} is read in, best_clf is set to None\")\n",
    "                self.best_combo = combo\n",
    "\n",
    "\n",
    "    \n",
    "    def _create_parameter_value_map_index(self):\n",
    "        self.parameter_value_map_index = dict()\n",
    "        for key in self.parameter_choices.keys():\n",
    "            tmp = dict()\n",
    "            for i in range(len(self.parameter_choices[key])):\n",
    "                tmp[self.parameter_choices[key][i]] = i\n",
    "            self.parameter_value_map_index[key] = tmp\n",
    "    \n",
    "\n",
    "\n",
    "    def export_jixi(self, address):\n",
    "        \n",
    "        self._set_object_saving_address(address)\n",
    "\n",
    "        object_save = copy.deepcopy(self)\n",
    "        \n",
    "        object_save.train_x = None\n",
    "        object_save.train_y = None\n",
    "        object_save.val_x = None\n",
    "        object_save.val_y = None\n",
    "        object_save.test_x = None\n",
    "        object_save.test_y = None\n",
    "        object_save._up_to = 0\n",
    "\n",
    "        with open(f'{self.object_saving_address}.pickle', 'wb') as f:\n",
    "            pickle.dump(object_save, f)\n",
    "\n",
    "        print(f'Successfully exported JiXi object as {self.object_saving_address}')\n",
    "\n",
    "\n",
    "    def view_best_combo_and_score(self):\n",
    "\n",
    "        print(f'(Current) Best combo: {self.best_combo} with val score {self.best_score}')"
   ]
  },
  {
   "cell_type": "code",
   "execution_count": 48,
   "metadata": {},
   "outputs": [
    {
     "name": "stdout",
     "output_type": "stream",
     "text": [
      "TaiZhou Initialised\n"
     ]
    }
   ],
   "source": [
    "jixi = JiXi()"
   ]
  },
  {
   "cell_type": "markdown",
   "metadata": {},
   "source": [
    "Read in and Prepare Data"
   ]
  },
  {
   "cell_type": "code",
   "execution_count": 49,
   "metadata": {},
   "outputs": [],
   "source": [
    "train_data = pd.read_csv('../data/curated/modelling/RS_Train_1.csv')\n",
    "val_data = pd.read_csv('../data/curated/modelling/RS_Validate_1.csv')\n",
    "test_data = pd.read_csv('../data/curated/modelling/RS_Test_1.csv')"
   ]
  },
  {
   "cell_type": "code",
   "execution_count": 50,
   "metadata": {},
   "outputs": [],
   "source": [
    "train_x = train_data.drop(['1'], axis=1)\n",
    "train_y = train_data['1']\n",
    "val_x = val_data.drop(['1'], axis=1)\n",
    "val_y = val_data['1']\n",
    "test_x = test_data.drop(['1'], axis=1)\n",
    "test_y = test_data['1']"
   ]
  },
  {
   "cell_type": "code",
   "execution_count": 51,
   "metadata": {},
   "outputs": [
    {
     "name": "stdout",
     "output_type": "stream",
     "text": [
      "Read in Train X data\n",
      "Read in Train x data\n",
      "Read in Val X data\n",
      "Read in Val y data\n",
      "Read in Test X data\n",
      "Read in Test y data\n"
     ]
    }
   ],
   "source": [
    "jixi.read_in_data(train_x, train_y, val_x, val_y, test_x, test_y)"
   ]
  },
  {
   "cell_type": "markdown",
   "metadata": {},
   "source": [
    "Set parameters"
   ]
  },
  {
   "cell_type": "code",
   "execution_count": 52,
   "metadata": {},
   "outputs": [],
   "source": [
    "# from sklearn.ensemble import RandomForestRegressor as RFR\n",
    "from sklearn.neighbors import  KNeighborsRegressor as KNR"
   ]
  },
  {
   "cell_type": "code",
   "execution_count": 53,
   "metadata": {},
   "outputs": [],
   "source": [
    "# rfr = RFR\n",
    "knr = KNR"
   ]
  },
  {
   "cell_type": "code",
   "execution_count": 54,
   "metadata": {},
   "outputs": [
    {
     "name": "stdout",
     "output_type": "stream",
     "text": [
      "Successfully read in model <class 'sklearn.neighbors._regression.KNeighborsRegressor'>, which is a Regression model\n"
     ]
    }
   ],
   "source": [
    "jixi.read_in_model(knr, 'Regression')"
   ]
  },
  {
   "cell_type": "code",
   "execution_count": 55,
   "metadata": {},
   "outputs": [],
   "source": [
    "# parameter_choices = {\n",
    "#     'n_estimators': (50, 100),\n",
    "#     'max_depth': (5, 10, 25, 50, 100) ,   \n",
    "#     'random_state': (19421220,),\n",
    "#     'ccp_alpha': (0, 0.0001, 0.01, 1, 100, 10000),\n",
    "#     'max_samples': (0.5, 0.75),\n",
    "#     'max_features': (0.5, 0.75)\n",
    "# }\n",
    "\n",
    "parameter_choices = {\n",
    "    'n_neighbors': tuple(range(5, 201, 5)),\n",
    "    'weights': ('uniform', 'distance')\n",
    "}"
   ]
  },
  {
   "cell_type": "code",
   "execution_count": 56,
   "metadata": {},
   "outputs": [
    {
     "name": "stdout",
     "output_type": "stream",
     "text": [
      "Successfully recorded parameter choices\n"
     ]
    }
   ],
   "source": [
    "jixi.set_parameters(parameter_choices)"
   ]
  },
  {
   "cell_type": "code",
   "execution_count": 57,
   "metadata": {},
   "outputs": [
    {
     "name": "stdout",
     "output_type": "stream",
     "text": [
      "Changed tuning_order to randomised\n"
     ]
    }
   ],
   "source": [
    "jixi.change_tuning_style('b')"
   ]
  },
  {
   "cell_type": "code",
   "execution_count": 58,
   "metadata": {},
   "outputs": [],
   "source": [
    "# import ZhongShan\n",
    "# zhongshan = ZhongShan\n",
    "\n",
    "# zhongshan.setup_directory('../models/tuning')"
   ]
  },
  {
   "cell_type": "code",
   "execution_count": 59,
   "metadata": {},
   "outputs": [
    {
     "name": "stdout",
     "output_type": "stream",
     "text": [
      "Successfully read in tuning result of 80 rows\n",
      "As new Best Combo (3, 1) is read in, best_clf is set to None\n",
      "As new Best Combo (19, 0) is read in, best_clf is set to None\n",
      "As new Best Combo (8, 0) is read in, best_clf is set to None\n",
      "As new Best Combo (7, 1) is read in, best_clf is set to None\n",
      "As new Best Combo (14, 1) is read in, best_clf is set to None\n",
      "As new Best Combo (12, 1) is read in, best_clf is set to None\n",
      "As new Best Combo (13, 1) is read in, best_clf is set to None\n",
      "As new Best Combo (6, 1) is read in, best_clf is set to None\n"
     ]
    }
   ],
   "source": [
    "jixi.read_in_tuning_result_df('../models/tuning/RS_knr_1.csv')"
   ]
  },
  {
   "cell_type": "code",
   "execution_count": 60,
   "metadata": {},
   "outputs": [
    {
     "name": "stdout",
     "output_type": "stream",
     "text": [
      "Successfully set tuning output address\n"
     ]
    }
   ],
   "source": [
    "jixi.set_tuning_result_saving_address('../models/tuning/RS_knr_1.csv')"
   ]
  },
  {
   "cell_type": "code",
   "execution_count": 61,
   "metadata": {},
   "outputs": [
    {
     "name": "stdout",
     "output_type": "stream",
     "text": [
      "Already Trained and Tested combination 1\n",
      "Already Trained and Tested combination 2\n",
      "Already Trained and Tested combination 3\n",
      "Already Trained and Tested combination 4\n",
      "Already Trained and Tested combination 5\n",
      "Already Trained and Tested combination 6\n",
      "Already Trained and Tested combination 7\n",
      "Already Trained and Tested combination 8\n",
      "Already Trained and Tested combination 9\n",
      "Already Trained and Tested combination 10\n",
      "Already Trained and Tested combination 11\n",
      "Already Trained and Tested combination 12\n",
      "Already Trained and Tested combination 13\n",
      "Already Trained and Tested combination 14\n",
      "Already Trained and Tested combination 15\n",
      "Already Trained and Tested combination 16\n",
      "Already Trained and Tested combination 17\n",
      "Already Trained and Tested combination 18\n",
      "Already Trained and Tested combination 19\n",
      "Already Trained and Tested combination 20\n",
      "Already Trained and Tested combination 21\n",
      "Already Trained and Tested combination 22\n",
      "Already Trained and Tested combination 23\n",
      "Already Trained and Tested combination 24\n",
      "Already Trained and Tested combination 25\n",
      "Already Trained and Tested combination 26\n",
      "Already Trained and Tested combination 27\n",
      "Already Trained and Tested combination 28\n",
      "Already Trained and Tested combination 29\n",
      "Already Trained and Tested combination 30\n",
      "Already Trained and Tested combination 31\n",
      "Already Trained and Tested combination 32\n",
      "Already Trained and Tested combination 33\n",
      "Already Trained and Tested combination 34\n",
      "Already Trained and Tested combination 35\n",
      "Already Trained and Tested combination 36\n",
      "Already Trained and Tested combination 37\n",
      "Already Trained and Tested combination 38\n",
      "Already Trained and Tested combination 39\n",
      "Already Trained and Tested combination 40\n",
      "Already Trained and Tested combination 41\n",
      "Already Trained and Tested combination 42\n",
      "Already Trained and Tested combination 43\n",
      "Already Trained and Tested combination 44\n",
      "Already Trained and Tested combination 45\n",
      "Already Trained and Tested combination 46\n",
      "Already Trained and Tested combination 47\n",
      "Already Trained and Tested combination 48\n",
      "Already Trained and Tested combination 49\n",
      "Already Trained and Tested combination 50\n",
      "Already Trained and Tested combination 51\n",
      "Already Trained and Tested combination 52\n",
      "Already Trained and Tested combination 53\n",
      "Already Trained and Tested combination 54\n",
      "Already Trained and Tested combination 55\n",
      "Already Trained and Tested combination 56\n",
      "Already Trained and Tested combination 57\n",
      "Already Trained and Tested combination 58\n",
      "Already Trained and Tested combination 59\n",
      "Already Trained and Tested combination 60\n",
      "Already Trained and Tested combination 61\n",
      "Already Trained and Tested combination 62\n",
      "Already Trained and Tested combination 63\n",
      "Already Trained and Tested combination 64\n",
      "Already Trained and Tested combination 65\n",
      "Already Trained and Tested combination 66\n",
      "Already Trained and Tested combination 67\n",
      "Already Trained and Tested combination 68\n",
      "Already Trained and Tested combination 69\n",
      "Already Trained and Tested combination 70\n",
      "Already Trained and Tested combination 71\n",
      "Already Trained and Tested combination 72\n",
      "Already Trained and Tested combination 73\n",
      "Already Trained and Tested combination 74\n",
      "Already Trained and Tested combination 75\n",
      "Already Trained and Tested combination 76\n",
      "Already Trained and Tested combination 77\n",
      "Already Trained and Tested combination 78\n",
      "Already Trained and Tested combination 79\n",
      "Already Trained and Tested combination 80\n"
     ]
    }
   ],
   "source": [
    "jixi.tune()"
   ]
  },
  {
   "cell_type": "code",
   "execution_count": 62,
   "metadata": {},
   "outputs": [
    {
     "name": "stdout",
     "output_type": "stream",
     "text": [
      "(Current) Best combo: (6, 1) with val score 0.3403\n"
     ]
    }
   ],
   "source": [
    "jixi.view_best_combo_and_score()"
   ]
  },
  {
   "cell_type": "code",
   "execution_count": 63,
   "metadata": {},
   "outputs": [
    {
     "name": "stdout",
     "output_type": "stream",
     "text": [
      "Successfully set object output address\n"
     ]
    }
   ],
   "source": [
    "jixi.export_jixi('test')"
   ]
  },
  {
   "cell_type": "code",
   "execution_count": 64,
   "metadata": {},
   "outputs": [],
   "source": [
    "with open('test.pickle', 'rb') as f:\n",
    "    jixi = pickle.load(f)"
   ]
  },
  {
   "cell_type": "code",
   "execution_count": 65,
   "metadata": {},
   "outputs": [
    {
     "data": {
      "text/plain": [
       "<__main__.TaiZhou at 0x7f7be94a8790>"
      ]
     },
     "execution_count": 65,
     "metadata": {},
     "output_type": "execute_result"
    }
   ],
   "source": [
    "jixi"
   ]
  },
  {
   "cell_type": "code",
   "execution_count": null,
   "metadata": {},
   "outputs": [],
   "source": []
  }
 ],
 "metadata": {
  "kernelspec": {
   "display_name": "Python 3.9.7 ('base')",
   "language": "python",
   "name": "python3"
  },
  "language_info": {
   "codemirror_mode": {
    "name": "ipython",
    "version": 3
   },
   "file_extension": ".py",
   "mimetype": "text/x-python",
   "name": "python",
   "nbconvert_exporter": "python",
   "pygments_lexer": "ipython3",
   "version": "3.9.7"
  },
  "orig_nbformat": 4,
  "vscode": {
   "interpreter": {
    "hash": "cd78fef2128015050713e82ca51c6520b11aee7c9ee8df750520bbbc7384cbaa"
   }
  }
 },
 "nbformat": 4,
 "nbformat_minor": 2
}
