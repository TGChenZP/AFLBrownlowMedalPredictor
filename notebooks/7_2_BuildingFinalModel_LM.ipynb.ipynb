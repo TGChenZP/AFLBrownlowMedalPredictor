{
 "cells": [
  {
   "attachments": {},
   "cell_type": "markdown",
   "metadata": {},
   "source": [
    "# 7.2 Building Final Model: OLS LM"
   ]
  },
  {
   "cell_type": "code",
   "execution_count": 1,
   "metadata": {},
   "outputs": [],
   "source": [
    "import pandas as pd\n",
    "import numpy as np\n",
    "\n",
    "from sklearn.metrics import r2_score, mean_absolute_percentage_error, mean_squared_error"
   ]
  },
  {
   "cell_type": "code",
   "execution_count": 2,
   "metadata": {},
   "outputs": [],
   "source": [
    "train_data3 = pd.read_csv('../data/curated/modelling/N_Train_3.csv')\n",
    "val_data3 = pd.read_csv('../data/curated/modelling/N_Validate_3.csv')\n",
    "test_data3 = pd.read_csv('../data/curated/modelling/N_Test_3.csv')"
   ]
  },
  {
   "cell_type": "code",
   "execution_count": 3,
   "metadata": {},
   "outputs": [],
   "source": [
    "train3_x = train_data3.drop(['3'], axis=1)\n",
    "train3_y = train_data3['3']"
   ]
  },
  {
   "cell_type": "code",
   "execution_count": 4,
   "metadata": {},
   "outputs": [],
   "source": [
    "import statsmodels.api as sm\n",
    "from statsmodels.api import families"
   ]
  },
  {
   "cell_type": "code",
   "execution_count": 5,
   "metadata": {},
   "outputs": [],
   "source": [
    "model3_COLS = ['Behind Assists BTN', 'Behind Assists OTN', 'Centre Clearances BTN', 'Centre Clearances OTN', 'Clearances BTN', 'Clearances OTN', 'Contested Possessions BTN', 'Contested Possessions OTN', 'Disposals BTN', 'Disposals OTN', 'Effective Disposals BTN', 'Effective Disposals OTN', 'Goals BTN', 'Goals OTN', 'Handballs BTN', 'Handballs OTN', 'Ineffective Disposals BTN', 'Ineffective Disposals OTN', 'Inside 50s BTN', 'Inside 50s OTN', 'Kicks BTN', 'Kicks OTN', 'Metres Gained BTN', 'Metres Gained OTN', 'Score Involvements BTN', 'Score Involvements OTN', 'Stoppage Clearances BTN', 'Stoppage Clearances OTN', 'Turnovers OTN', 'Uncontested Possessions BTN', 'Uncontested Possessions OTN']"
   ]
  },
  {
   "cell_type": "code",
   "execution_count": 6,
   "metadata": {},
   "outputs": [
    {
     "name": "stderr",
     "output_type": "stream",
     "text": [
      "/Applications/anaconda3/lib/python3.9/site-packages/statsmodels/genmod/generalized_linear_model.py:1323: UserWarning: Elastic net fitting did not converge\n",
      "  warnings.warn(\"Elastic net fitting did not converge\")\n"
     ]
    }
   ],
   "source": [
    "model3 = sm.GLM(train3_y, train3_x[model3_COLS]).fit_regularized(method='elastic_net', alpha=0.001, L1_wt=1.0, refit=True)"
   ]
  },
  {
   "cell_type": "code",
   "execution_count": 7,
   "metadata": {},
   "outputs": [],
   "source": [
    "import os\n",
    "from collections import defaultdict as dd\n",
    "manip_type = 'NormalisedData'\n",
    "\n",
    "csv_list = os.listdir(f'../data/curated/{manip_type}')\n",
    "csv_list.sort()\n",
    "\n",
    "tally = dd(int)\n",
    "\n",
    "data = pd.DataFrame()\n",
    "for file in csv_list[1:]:\n",
    "    if '2022' in file:\n",
    "        data = pd.read_csv(f'../data/curated/{manip_type}/{file}')\n",
    "        \n",
    "        player = data['Player']\n",
    "        pred3 = model3.predict(data[model3_COLS])\n",
    "        pred = pd.DataFrame({'player': player, '3': pred3})\n",
    "\n",
    "        three_votes = list(pred.sort_values('3', ascending = False)['player'])[0]\n",
    "\n",
    "        two_votes = list(pred.sort_values('3', ascending = False)['player'])[1]\n",
    "\n",
    "        one_vote = list(pred.sort_values('3', ascending = False)['player'])[2]\n",
    "\n",
    "        tally[three_votes] += 3\n",
    "        tally[two_votes] += 2\n",
    "        tally[one_vote] += 1\n",
    "        "
   ]
  },
  {
   "cell_type": "code",
   "execution_count": 8,
   "metadata": {},
   "outputs": [],
   "source": [
    "tally_list = list(tally.items())\n",
    "tally_list.sort(key = lambda x:x[1], reverse=True)"
   ]
  },
  {
   "cell_type": "code",
   "execution_count": 9,
   "metadata": {},
   "outputs": [
    {
     "data": {
      "text/plain": [
       "[('Clayton Oliver', 45),\n",
       " ('Patrick Cripps', 35),\n",
       " ('Touk Miller', 28),\n",
       " ('Lachie Neale', 28),\n",
       " ('Rory Laird', 26),\n",
       " ('Christian Petracca', 25),\n",
       " ('Thomas Liberatore', 25),\n",
       " ('Jeremy Cameron', 22),\n",
       " ('Will Brodie', 19),\n",
       " ('Josh Dunkley', 19),\n",
       " ('Darcy Parish', 18),\n",
       " ('Oliver Wines', 18),\n",
       " ('Jackson Macrae', 17),\n",
       " ('Jade Gresham', 16),\n",
       " ('Charlie Curnow', 16),\n",
       " ('Sam Walsh', 16),\n",
       " ('Shai Bolton', 16),\n",
       " ('Tom Lynch', 16),\n",
       " ('Brad Crouch', 15),\n",
       " ('Dion Prestia', 15),\n",
       " ('Connor Rozee', 15),\n",
       " ('Andrew Brayshaw', 14),\n",
       " ('Max Gawn', 14),\n",
       " ('Zachary Merrett', 14),\n",
       " ('Jy Simpkin', 13),\n",
       " ('Stephen Coniglio', 13),\n",
       " ('Marcus Bontempelli', 13),\n",
       " ('Taylor Walker', 13),\n",
       " ('Chad Warner', 13),\n",
       " ('Noah Anderson', 13),\n",
       " ('Luke Parker', 12),\n",
       " ('Tyson Stengle', 12),\n",
       " ('Ben Keays', 12),\n",
       " ('Tom Hawkins', 12),\n",
       " ('Hugh McCluggage', 11),\n",
       " ('Tom Green', 10),\n",
       " ('Tom Mitchell', 10),\n",
       " ('Jordan De Goey', 10),\n",
       " ('George Hewett', 10),\n",
       " ('Tom Papley', 10),\n",
       " ('Callum Mills', 10),\n",
       " ('Cameron Guthrie', 9),\n",
       " ('Caleb Serong', 9),\n",
       " ('Jack Steele', 9),\n",
       " ('Jack Higgins', 9),\n",
       " ('Travis Boak', 8),\n",
       " ('Adam Cerra', 8),\n",
       " ('Isaac Heeney', 8),\n",
       " ('Joshua Kelly', 8),\n",
       " ('Lachlan Schultz', 8),\n",
       " ('Zak Butters', 8),\n",
       " ('Lance Franklin', 8),\n",
       " ('Adam Treloar', 8),\n",
       " ('Mitchell Lewis', 8),\n",
       " ('Harry McKay', 8),\n",
       " ('Dylan Shiel', 8),\n",
       " ('Luke D-Uniacke', 8),\n",
       " ('Peter Wright', 8),\n",
       " ('Nick Larkey', 8),\n",
       " ('Kysaiah Pickett', 8),\n",
       " ('David Mundy', 8),\n",
       " ('Jack Gunston', 7),\n",
       " ('Max King', 7),\n",
       " ('Jack Crisp', 7),\n",
       " ('Jarryd Lyons', 7),\n",
       " ('Jack Viney', 7),\n",
       " ('Sebastian Ross', 7),\n",
       " ('Joel Selwood', 7),\n",
       " ('Zac Bailey', 7),\n",
       " ('David Swallow', 7),\n",
       " ('Matt Rowell', 6),\n",
       " ('Jai Newcombe', 6),\n",
       " ('Liam Baker', 6),\n",
       " ('Willie Rioli', 6),\n",
       " ('Mark Blicavs', 6),\n",
       " ('Patrick Dangerfield', 5),\n",
       " ('Brandan Parfitt', 5),\n",
       " (\"Jaeger O'Meara\", 5),\n",
       " ('Taylor Adams', 5),\n",
       " ('Callan Ward', 5),\n",
       " ('Sam P-Pepper', 5),\n",
       " ('Errol Gulden', 5),\n",
       " ('Matthew Kennedy', 4),\n",
       " ('Patrick Lipinski', 4),\n",
       " ('Izak Rankine', 4),\n",
       " ('Timothy English', 4),\n",
       " ('Mitchell Duncan', 4),\n",
       " ('Toby Greene', 4),\n",
       " ('Sam Berry', 4),\n",
       " ('Jake Stringer', 4),\n",
       " ('Dylan Moore', 4),\n",
       " ('Isaac Smith', 4),\n",
       " ('Jeremy Finlayson', 4),\n",
       " ('Matthew Taberner', 4),\n",
       " ('Josh Rachele', 3),\n",
       " ('Aaron Naughton', 3),\n",
       " ('Oliver Henry', 3),\n",
       " ('Harry Perryman', 3),\n",
       " ('Tom McDonald', 3),\n",
       " ('Bailey Smith', 3),\n",
       " ('Thomas Stewart', 3),\n",
       " ('Lachlan Weller', 3),\n",
       " ('Brandon Ellis', 3),\n",
       " ('Jesse Hogan', 3),\n",
       " ('Rory Lobb', 3),\n",
       " ('Callum Brown', 3),\n",
       " ('Tim Kelly', 3),\n",
       " ('Nick Daicos', 3),\n",
       " ('Cameron Rayner', 3),\n",
       " ('Luke Breust', 3),\n",
       " ('Hugh Greenwood', 3),\n",
       " ('Lachie Whitfield', 3),\n",
       " ('Angus Brayshaw', 3),\n",
       " ('Trent Cotchin', 3),\n",
       " ('James Rowbottom', 3),\n",
       " ('Alex Sexton', 3),\n",
       " ('Ed Langdon', 3),\n",
       " ('James Harmes', 3),\n",
       " ('Justin McInerney', 3),\n",
       " ('Mabior Chol', 3),\n",
       " ('Dustin Martin', 3),\n",
       " ('Joe Daniher', 2),\n",
       " ('Jack Riewoldt', 2),\n",
       " ('Darcy Cameron', 2),\n",
       " ('Bailey Dale', 2),\n",
       " ('Brody Mihocek', 2),\n",
       " ('Karl Amon', 2),\n",
       " ('Sam Menegola', 2),\n",
       " ('Darcy Fogarty', 2),\n",
       " ('Tom Hickey', 2),\n",
       " ('Jamie Cripps', 2),\n",
       " ('Charlie Cameron', 2),\n",
       " ('Luke Shuey', 2),\n",
       " ('Nathan Fyfe', 2),\n",
       " ('Rhys Mathieson', 2),\n",
       " ('Josh Ward', 2),\n",
       " ('Cameron Zurhaar', 2),\n",
       " ('Charlie Dixon', 2),\n",
       " ('Luke Jackson', 2),\n",
       " ('Rowan Marshall', 2),\n",
       " ('Daniel Hannebery', 2),\n",
       " ('Sam Reid', 2),\n",
       " ('Daniel McStay', 2),\n",
       " ('Joshua Kennedy', 2),\n",
       " ('Jake Melksham', 2),\n",
       " ('Bayley Fritsch', 2),\n",
       " ('Lincoln McCarthy', 2),\n",
       " ('Tim Taranto', 2),\n",
       " ('Jack Ginnivan', 2),\n",
       " ('Todd Marshall', 2),\n",
       " ('Dayne Zorko', 2),\n",
       " ('Zach Tuohy', 2),\n",
       " ('Dan Houston', 1),\n",
       " ('James Peatling', 1),\n",
       " ('Jarrod Berry', 1),\n",
       " ('Bradley Hill', 1),\n",
       " ('Tanner Bruhn', 1),\n",
       " ('Ben Ainsworth', 1),\n",
       " ('James Jordon', 1),\n",
       " ('Jarrod Witts', 1),\n",
       " ('Jake Lloyd', 1),\n",
       " ('Jack Sinclair', 1),\n",
       " ('James Aish', 1),\n",
       " ('Kyle Langford', 1),\n",
       " ('Nicholas Martin', 1),\n",
       " ('Daniel Butler', 1),\n",
       " ('Jamarra U-Hagan', 1),\n",
       " ('Noah Balta', 1),\n",
       " ('Jack Darling', 1),\n",
       " ('Jamie Elliott', 1),\n",
       " ('Blake Acres', 1),\n",
       " ('Sam Docherty', 1),\n",
       " ('Cody Weightman', 1),\n",
       " ('Brodie Grundy', 1),\n",
       " (\"Nathan O'Driscoll\", 1),\n",
       " ('Jack Ziebell', 1),\n",
       " ('Sean Darcy', 1),\n",
       " ('Peter Ladhams', 1),\n",
       " ('Jayden Short', 1),\n",
       " ('Toby Nankervis', 1)]"
      ]
     },
     "execution_count": 9,
     "metadata": {},
     "output_type": "execute_result"
    }
   ],
   "source": [
    "tally_list"
   ]
  },
  {
   "cell_type": "code",
   "execution_count": null,
   "metadata": {},
   "outputs": [],
   "source": []
  }
 ],
 "metadata": {
  "kernelspec": {
   "display_name": "Python 3.9.7 ('base')",
   "language": "python",
   "name": "python3"
  },
  "language_info": {
   "codemirror_mode": {
    "name": "ipython",
    "version": 3
   },
   "file_extension": ".py",
   "mimetype": "text/x-python",
   "name": "python",
   "nbconvert_exporter": "python",
   "pygments_lexer": "ipython3",
   "version": "3.9.7"
  },
  "orig_nbformat": 4,
  "vscode": {
   "interpreter": {
    "hash": "cd78fef2128015050713e82ca51c6520b11aee7c9ee8df750520bbbc7384cbaa"
   }
  }
 },
 "nbformat": 4,
 "nbformat_minor": 2
}
