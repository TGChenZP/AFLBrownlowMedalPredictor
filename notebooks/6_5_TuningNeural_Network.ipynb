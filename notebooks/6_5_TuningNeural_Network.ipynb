{
  "nbformat": 4,
  "nbformat_minor": 0,
  "metadata": {
    "colab": {
      "provenance": []
    },
    "kernelspec": {
      "name": "python3",
      "display_name": "Python 3"
    },
    "language_info": {
      "name": "python"
    }
  },
  "cells": [
    {
      "cell_type": "code",
      "execution_count": 46,
      "metadata": {
        "id": "azcXS1frYn57"
      },
      "outputs": [],
      "source": [
        "import tensorflow as tf\n",
        "import pandas as pd\n",
        "import numpy as np\n",
        "\n",
        "from sklearn.neural_network import MLPRegressor\n",
        "from sklearn.metrics import r2_score"
      ]
    },
    {
      "cell_type": "code",
      "source": [
        "from google.colab import drive\n",
        "drive.mount('/content/drive')"
      ],
      "metadata": {
        "colab": {
          "base_uri": "https://localhost:8080/"
        },
        "id": "teRxWsg_YvY_",
        "outputId": "4a91d941-f966-4d22-e0d9-829c55b1429a"
      },
      "execution_count": 47,
      "outputs": [
        {
          "output_type": "stream",
          "name": "stdout",
          "text": [
            "Drive already mounted at /content/drive; to attempt to forcibly remount, call drive.mount(\"/content/drive\", force_remount=True).\n"
          ]
        }
      ]
    },
    {
      "cell_type": "code",
      "source": [
        "DATA_TYPE = 'RS'\n",
        "LABEL = '3'"
      ],
      "metadata": {
        "id": "9WPVN1NroXgK"
      },
      "execution_count": 48,
      "outputs": []
    },
    {
      "cell_type": "code",
      "source": [
        "train_data = pd.read_csv(f'./drive/MyDrive/Brownlow/data/curated/modelling/{DATA_TYPE}_Train_{LABEL}.csv')\n",
        "val_data = pd.read_csv(f'./drive/MyDrive/Brownlow/data/curated/modelling/{DATA_TYPE}_Validate_{LABEL}.csv')\n",
        "test_data = pd.read_csv(f'./drive/MyDrive/Brownlow/data/curated/modelling/{DATA_TYPE}_Test_{LABEL}.csv')"
      ],
      "metadata": {
        "id": "sUMAGCr8Yy7y"
      },
      "execution_count": 49,
      "outputs": []
    },
    {
      "cell_type": "code",
      "source": [
        "train_x = train_data.drop([LABEL], axis=1)\n",
        "train_y = train_data[LABEL]\n",
        "val_x = val_data.drop([LABEL], axis=1)\n",
        "val_y = val_data[LABEL]\n",
        "test_x = test_data.drop([LABEL], axis=1)\n",
        "test_y = test_data[LABEL]"
      ],
      "metadata": {
        "id": "5trbWy6vY7pT"
      },
      "execution_count": 50,
      "outputs": []
    },
    {
      "cell_type": "markdown",
      "source": [],
      "metadata": {
        "id": "AvWalYvTnPWU"
      }
    },
    {
      "cell_type": "code",
      "source": [
        "model = tf.keras.Sequential()\n",
        "model.add(tf.keras.layers.Dense(len(train_x.columns)//2, input_shape = (len(train_x.columns),), activation = tf.keras.activations.relu))\n",
        "model.add(tf.keras.layers.Dense(len(train_x.columns)//np.power(2, 2), activation = tf.keras.activations.relu))\n",
        "model.add(tf.keras.layers.Dense(len(train_x.columns)//np.power(2, 3), activation = tf.keras.activations.relu))\n",
        "model.add(tf.keras.layers.Dense(1, activation = tf.keras.activations.sigmoid))\n",
        "model.compile(optimizer = 'adam', loss = 'mse')\n",
        "\n",
        "model.fit(train_x, train_y, batch_size=32, epochs = 20)\n",
        "\n",
        "train_pred = model.predict(train_x)\n",
        "val_pred = model.predict(val_x)\n",
        "test_pred = model.predict(test_x)\n",
        "\n",
        "print(r2_score(train_y, train_pred))\n",
        "print(r2_score(val_y, val_pred))\n",
        "print(r2_score(test_y, test_pred))"
      ],
      "metadata": {
        "id": "inJjA6H8ZAhg",
        "colab": {
          "base_uri": "https://localhost:8080/"
        },
        "outputId": "fa1f93ab-65d6-487b-c4b3-902f053dd8a3"
      },
      "execution_count": 51,
      "outputs": [
        {
          "output_type": "stream",
          "name": "stdout",
          "text": [
            "Epoch 1/20\n",
            "1293/1293 [==============================] - 3s 2ms/step - loss: 0.0248\n",
            "Epoch 2/20\n",
            "1293/1293 [==============================] - 3s 2ms/step - loss: 0.0226\n",
            "Epoch 3/20\n",
            "1293/1293 [==============================] - 3s 2ms/step - loss: 0.0226\n",
            "Epoch 4/20\n",
            "1293/1293 [==============================] - 2s 2ms/step - loss: 0.0220\n",
            "Epoch 5/20\n",
            "1293/1293 [==============================] - 3s 2ms/step - loss: 0.0212\n",
            "Epoch 6/20\n",
            "1293/1293 [==============================] - 3s 2ms/step - loss: 0.0210\n",
            "Epoch 7/20\n",
            "1293/1293 [==============================] - 2s 2ms/step - loss: 0.0209\n",
            "Epoch 8/20\n",
            "1293/1293 [==============================] - 3s 2ms/step - loss: 0.0209\n",
            "Epoch 9/20\n",
            "1293/1293 [==============================] - 4s 3ms/step - loss: 0.0209\n",
            "Epoch 10/20\n",
            "1293/1293 [==============================] - 3s 2ms/step - loss: 0.0208\n",
            "Epoch 11/20\n",
            "1293/1293 [==============================] - 3s 2ms/step - loss: 0.0208\n",
            "Epoch 12/20\n",
            "1293/1293 [==============================] - 2s 2ms/step - loss: 0.0208\n",
            "Epoch 13/20\n",
            "1293/1293 [==============================] - 3s 2ms/step - loss: 0.0208\n",
            "Epoch 14/20\n",
            "1293/1293 [==============================] - 3s 2ms/step - loss: 0.0208\n",
            "Epoch 15/20\n",
            "1293/1293 [==============================] - 3s 2ms/step - loss: 0.0207\n",
            "Epoch 16/20\n",
            "1293/1293 [==============================] - 3s 2ms/step - loss: 0.0207\n",
            "Epoch 17/20\n",
            "1293/1293 [==============================] - 3s 2ms/step - loss: 0.0207\n",
            "Epoch 18/20\n",
            "1293/1293 [==============================] - 3s 2ms/step - loss: 0.0205\n",
            "Epoch 19/20\n",
            "1293/1293 [==============================] - 3s 2ms/step - loss: 0.0205\n",
            "Epoch 20/20\n",
            "1293/1293 [==============================] - 3s 2ms/step - loss: 0.0204\n",
            "1293/1293 [==============================] - 2s 1ms/step\n",
            "278/278 [==============================] - 0s 1ms/step\n",
            "278/278 [==============================] - 0s 1ms/step\n",
            "0.06673658991528997\n",
            "0.07997504391347898\n",
            "0.07273178853673168\n"
          ]
        }
      ]
    },
    {
      "cell_type": "code",
      "source": [
        "model = tf.keras.Sequential()\n",
        "model.add(tf.keras.layers.Dense(len(train_x.columns)//2, input_shape = (len(train_x.columns),), activation = tf.keras.activations.relu))\n",
        "model.add(tf.keras.layers.Dense(len(train_x.columns)//np.power(2, 2), activation = tf.keras.activations.relu))\n",
        "model.add(tf.keras.layers.Dense(1, activation = tf.keras.activations.sigmoid))\n",
        "model.compile(optimizer = 'adam', loss = 'mse')\n",
        "\n",
        "model.fit(train_x, train_y, batch_size=32, epochs = 20)\n",
        "\n",
        "train_pred = model.predict(train_x)\n",
        "val_pred = model.predict(val_x)\n",
        "test_pred = model.predict(test_x)\n",
        "\n",
        "print(r2_score(train_y, train_pred))\n",
        "print(r2_score(val_y, val_pred))\n",
        "print(r2_score(test_y, test_pred))"
      ],
      "metadata": {
        "id": "uyMmIdZ6a-o1",
        "colab": {
          "base_uri": "https://localhost:8080/"
        },
        "outputId": "1f8a8a1f-e6e0-4ccf-c92d-56a98f63f9f5"
      },
      "execution_count": 52,
      "outputs": [
        {
          "output_type": "stream",
          "name": "stdout",
          "text": [
            "Epoch 1/20\n",
            "1293/1293 [==============================] - 3s 2ms/step - loss: 0.0401\n",
            "Epoch 2/20\n",
            "1293/1293 [==============================] - 3s 2ms/step - loss: 0.0227\n",
            "Epoch 3/20\n",
            "1293/1293 [==============================] - 3s 2ms/step - loss: 0.0226\n",
            "Epoch 4/20\n",
            "1293/1293 [==============================] - 3s 2ms/step - loss: 0.0225\n",
            "Epoch 5/20\n",
            "1293/1293 [==============================] - 3s 2ms/step - loss: 0.0213\n",
            "Epoch 6/20\n",
            "1293/1293 [==============================] - 3s 2ms/step - loss: 0.0210\n",
            "Epoch 7/20\n",
            "1293/1293 [==============================] - 3s 2ms/step - loss: 0.0210\n",
            "Epoch 8/20\n",
            "1293/1293 [==============================] - 3s 2ms/step - loss: 0.0209\n",
            "Epoch 9/20\n",
            "1293/1293 [==============================] - 3s 2ms/step - loss: 0.0208\n",
            "Epoch 10/20\n",
            "1293/1293 [==============================] - 3s 2ms/step - loss: 0.0208\n",
            "Epoch 11/20\n",
            "1293/1293 [==============================] - 3s 2ms/step - loss: 0.0208\n",
            "Epoch 12/20\n",
            "1293/1293 [==============================] - 3s 2ms/step - loss: 0.0208\n",
            "Epoch 13/20\n",
            "1293/1293 [==============================] - 3s 2ms/step - loss: 0.0208\n",
            "Epoch 14/20\n",
            "1293/1293 [==============================] - 3s 2ms/step - loss: 0.0207\n",
            "Epoch 15/20\n",
            "1293/1293 [==============================] - 3s 2ms/step - loss: 0.0207\n",
            "Epoch 16/20\n",
            "1293/1293 [==============================] - 3s 2ms/step - loss: 0.0206\n",
            "Epoch 17/20\n",
            "1293/1293 [==============================] - 3s 2ms/step - loss: 0.0206\n",
            "Epoch 18/20\n",
            "1293/1293 [==============================] - 3s 2ms/step - loss: 0.0205\n",
            "Epoch 19/20\n",
            "1293/1293 [==============================] - 3s 2ms/step - loss: 0.0206\n",
            "Epoch 20/20\n",
            "1293/1293 [==============================] - 3s 2ms/step - loss: 0.0205\n",
            "1293/1293 [==============================] - 2s 1ms/step\n",
            "278/278 [==============================] - 0s 1ms/step\n",
            "278/278 [==============================] - 0s 1ms/step\n",
            "0.06878852022330528\n",
            "0.0733346430068268\n",
            "0.07072559571367276\n"
          ]
        }
      ]
    },
    {
      "cell_type": "code",
      "source": [
        "model = tf.keras.Sequential()\n",
        "model.add(tf.keras.layers.Dense(len(train_x.columns)//2, input_shape = (len(train_x.columns),), activation = tf.keras.activations.relu))\n",
        "model.add(tf.keras.layers.Dense(1, activation = tf.keras.activations.sigmoid))\n",
        "model.compile(optimizer = 'adam', loss = 'mse')\n",
        "\n",
        "model.fit(train_x, train_y, batch_size=32, epochs = 20)\n",
        "\n",
        "train_pred = model.predict(train_x)\n",
        "val_pred = model.predict(val_x)\n",
        "test_pred = model.predict(test_x)\n",
        "\n",
        "print(r2_score(train_y, train_pred))\n",
        "print(r2_score(val_y, val_pred))\n",
        "print(r2_score(test_y, test_pred))"
      ],
      "metadata": {
        "colab": {
          "base_uri": "https://localhost:8080/"
        },
        "id": "AdDI_MgYm1pB",
        "outputId": "5fda3110-aab4-4ce4-d8c2-9fac05a1b266"
      },
      "execution_count": 53,
      "outputs": [
        {
          "output_type": "stream",
          "name": "stdout",
          "text": [
            "Epoch 1/20\n",
            "1293/1293 [==============================] - 3s 2ms/step - loss: 0.0307\n",
            "Epoch 2/20\n",
            "1293/1293 [==============================] - 2s 2ms/step - loss: 0.0227\n",
            "Epoch 3/20\n",
            "1293/1293 [==============================] - 2s 2ms/step - loss: 0.0226\n",
            "Epoch 4/20\n",
            "1293/1293 [==============================] - 2s 2ms/step - loss: 0.0226\n",
            "Epoch 5/20\n",
            "1293/1293 [==============================] - 2s 2ms/step - loss: 0.0216\n",
            "Epoch 6/20\n",
            "1293/1293 [==============================] - 2s 2ms/step - loss: 0.0212\n",
            "Epoch 7/20\n",
            "1293/1293 [==============================] - 2s 2ms/step - loss: 0.0211\n",
            "Epoch 8/20\n",
            "1293/1293 [==============================] - 2s 2ms/step - loss: 0.0210\n",
            "Epoch 9/20\n",
            "1293/1293 [==============================] - 2s 2ms/step - loss: 0.0209\n",
            "Epoch 10/20\n",
            "1293/1293 [==============================] - 2s 2ms/step - loss: 0.0209\n",
            "Epoch 11/20\n",
            "1293/1293 [==============================] - 2s 2ms/step - loss: 0.0208\n",
            "Epoch 12/20\n",
            "1293/1293 [==============================] - 2s 2ms/step - loss: 0.0208\n",
            "Epoch 13/20\n",
            "1293/1293 [==============================] - 2s 2ms/step - loss: 0.0208\n",
            "Epoch 14/20\n",
            "1293/1293 [==============================] - 2s 2ms/step - loss: 0.0208\n",
            "Epoch 15/20\n",
            "1293/1293 [==============================] - 2s 2ms/step - loss: 0.0208\n",
            "Epoch 16/20\n",
            "1293/1293 [==============================] - 2s 2ms/step - loss: 0.0208\n",
            "Epoch 17/20\n",
            "1293/1293 [==============================] - 2s 2ms/step - loss: 0.0207\n",
            "Epoch 18/20\n",
            "1293/1293 [==============================] - 2s 2ms/step - loss: 0.0208\n",
            "Epoch 19/20\n",
            "1293/1293 [==============================] - 2s 2ms/step - loss: 0.0208\n",
            "Epoch 20/20\n",
            "1293/1293 [==============================] - 2s 2ms/step - loss: 0.0207\n",
            "1293/1293 [==============================] - 2s 1ms/step\n",
            "278/278 [==============================] - 0s 1ms/step\n",
            "278/278 [==============================] - 0s 1ms/step\n",
            "0.06132817690427561\n",
            "0.06724461376078739\n",
            "0.06770078307186689\n"
          ]
        }
      ]
    },
    {
      "cell_type": "code",
      "source": [
        "model = tf.keras.Sequential()\n",
        "model.add(tf.keras.layers.Dense(3*len(train_x.columns)//4, input_shape = (len(train_x.columns),), activation = tf.keras.activations.relu))\n",
        "model.add(tf.keras.layers.Dense(2*len(train_x.columns)//4, activation = tf.keras.activations.relu))\n",
        "model.add(tf.keras.layers.Dense(len(train_x.columns)//4, activation = tf.keras.activations.relu))\n",
        "model.add(tf.keras.layers.Dense(1, activation = tf.keras.activations.sigmoid))\n",
        "model.compile(optimizer = 'adam', loss = 'mse')\n",
        "\n",
        "model.fit(train_x, train_y, batch_size=32, epochs = 20)\n",
        "\n",
        "train_pred = model.predict(train_x)\n",
        "val_pred = model.predict(val_x)\n",
        "test_pred = model.predict(test_x)\n",
        "\n",
        "print(r2_score(train_y, train_pred))\n",
        "print(r2_score(val_y, val_pred))\n",
        "print(r2_score(test_y, test_pred))"
      ],
      "metadata": {
        "colab": {
          "base_uri": "https://localhost:8080/"
        },
        "id": "H_HNulPAm1m8",
        "outputId": "4cc3556d-ab01-4705-e7f1-42c2d6c208d6"
      },
      "execution_count": 54,
      "outputs": [
        {
          "output_type": "stream",
          "name": "stdout",
          "text": [
            "Epoch 1/20\n",
            "1293/1293 [==============================] - 4s 3ms/step - loss: 0.0245\n",
            "Epoch 2/20\n",
            "1293/1293 [==============================] - 4s 3ms/step - loss: 0.0213\n",
            "Epoch 3/20\n",
            "1293/1293 [==============================] - 3s 2ms/step - loss: 0.0211\n",
            "Epoch 4/20\n",
            "1293/1293 [==============================] - 3s 2ms/step - loss: 0.0210\n",
            "Epoch 5/20\n",
            "1293/1293 [==============================] - 3s 2ms/step - loss: 0.0209\n",
            "Epoch 6/20\n",
            "1293/1293 [==============================] - 3s 2ms/step - loss: 0.0209\n",
            "Epoch 7/20\n",
            "1293/1293 [==============================] - 3s 2ms/step - loss: 0.0209\n",
            "Epoch 8/20\n",
            "1293/1293 [==============================] - 3s 2ms/step - loss: 0.0208\n",
            "Epoch 9/20\n",
            "1293/1293 [==============================] - 3s 2ms/step - loss: 0.0207\n",
            "Epoch 10/20\n",
            "1293/1293 [==============================] - 3s 2ms/step - loss: 0.0207\n",
            "Epoch 11/20\n",
            "1293/1293 [==============================] - 3s 2ms/step - loss: 0.0207\n",
            "Epoch 12/20\n",
            "1293/1293 [==============================] - 3s 2ms/step - loss: 0.0207\n",
            "Epoch 13/20\n",
            "1293/1293 [==============================] - 3s 2ms/step - loss: 0.0206\n",
            "Epoch 14/20\n",
            "1293/1293 [==============================] - 3s 2ms/step - loss: 0.0206\n",
            "Epoch 15/20\n",
            "1293/1293 [==============================] - 3s 2ms/step - loss: 0.0205\n",
            "Epoch 16/20\n",
            "1293/1293 [==============================] - 2s 2ms/step - loss: 0.0205\n",
            "Epoch 17/20\n",
            "1293/1293 [==============================] - 3s 2ms/step - loss: 0.0204\n",
            "Epoch 18/20\n",
            "1293/1293 [==============================] - 3s 2ms/step - loss: 0.0204\n",
            "Epoch 19/20\n",
            "1293/1293 [==============================] - 3s 2ms/step - loss: 0.0203\n",
            "Epoch 20/20\n",
            "1293/1293 [==============================] - 3s 2ms/step - loss: 0.0204\n",
            "1293/1293 [==============================] - 2s 1ms/step\n",
            "278/278 [==============================] - 0s 1ms/step\n",
            "278/278 [==============================] - 0s 1ms/step\n",
            "0.08528768835632827\n",
            "0.0894501127321311\n",
            "0.08507394820369651\n"
          ]
        }
      ]
    },
    {
      "cell_type": "code",
      "source": [
        "model = tf.keras.Sequential()\n",
        "model.add(tf.keras.layers.Dense(2*len(train_x.columns)//3, input_shape = (len(train_x.columns),), activation = tf.keras.activations.relu))\n",
        "model.add(tf.keras.layers.Dense(len(train_x.columns)//3, activation = tf.keras.activations.relu))\n",
        "model.add(tf.keras.layers.Dense(1, activation = tf.keras.activations.sigmoid))\n",
        "model.compile(optimizer = 'adam', loss = 'mse')\n",
        "\n",
        "model.fit(train_x, train_y, batch_size=32, epochs = 20)\n",
        "\n",
        "train_pred = model.predict(train_x)\n",
        "val_pred = model.predict(val_x)\n",
        "test_pred = model.predict(test_x)\n",
        "\n",
        "print(r2_score(train_y, train_pred))\n",
        "print(r2_score(val_y, val_pred))\n",
        "print(r2_score(test_y, test_pred))"
      ],
      "metadata": {
        "colab": {
          "base_uri": "https://localhost:8080/"
        },
        "id": "JjzBB3gzm1kn",
        "outputId": "3bbdf2f3-25fd-466c-f927-04fff004109f"
      },
      "execution_count": 55,
      "outputs": [
        {
          "output_type": "stream",
          "name": "stdout",
          "text": [
            "Epoch 1/20\n",
            "1293/1293 [==============================] - 3s 2ms/step - loss: 0.0255\n",
            "Epoch 2/20\n",
            "1293/1293 [==============================] - 2s 2ms/step - loss: 0.0227\n",
            "Epoch 3/20\n",
            "1293/1293 [==============================] - 3s 2ms/step - loss: 0.0226\n",
            "Epoch 4/20\n",
            "1293/1293 [==============================] - 2s 2ms/step - loss: 0.0226\n",
            "Epoch 5/20\n",
            "1293/1293 [==============================] - 2s 2ms/step - loss: 0.0226\n",
            "Epoch 6/20\n",
            "1293/1293 [==============================] - 2s 2ms/step - loss: 0.0226\n",
            "Epoch 7/20\n",
            "1293/1293 [==============================] - 3s 2ms/step - loss: 0.0226\n",
            "Epoch 8/20\n",
            "1293/1293 [==============================] - 3s 2ms/step - loss: 0.0226\n",
            "Epoch 9/20\n",
            "1293/1293 [==============================] - 3s 2ms/step - loss: 0.0213\n",
            "Epoch 10/20\n",
            "1293/1293 [==============================] - 3s 2ms/step - loss: 0.0210\n",
            "Epoch 11/20\n",
            "1293/1293 [==============================] - 3s 2ms/step - loss: 0.0209\n",
            "Epoch 12/20\n",
            "1293/1293 [==============================] - 3s 2ms/step - loss: 0.0208\n",
            "Epoch 13/20\n",
            "1293/1293 [==============================] - 3s 2ms/step - loss: 0.0208\n",
            "Epoch 14/20\n",
            "1293/1293 [==============================] - 3s 2ms/step - loss: 0.0207\n",
            "Epoch 15/20\n",
            "1293/1293 [==============================] - 3s 2ms/step - loss: 0.0206\n",
            "Epoch 16/20\n",
            "1293/1293 [==============================] - 3s 2ms/step - loss: 0.0207\n",
            "Epoch 17/20\n",
            "1293/1293 [==============================] - 2s 2ms/step - loss: 0.0206\n",
            "Epoch 18/20\n",
            "1293/1293 [==============================] - 2s 2ms/step - loss: 0.0206\n",
            "Epoch 19/20\n",
            "1293/1293 [==============================] - 2s 2ms/step - loss: 0.0206\n",
            "Epoch 20/20\n",
            "1293/1293 [==============================] - 2s 2ms/step - loss: 0.0205\n",
            "1293/1293 [==============================] - 2s 1ms/step\n",
            "278/278 [==============================] - 0s 1ms/step\n",
            "278/278 [==============================] - 0s 1ms/step\n",
            "0.06962629011566479\n",
            "0.07076632945058414\n",
            "0.07292533730264772\n"
          ]
        }
      ]
    },
    {
      "cell_type": "code",
      "source": [],
      "metadata": {
        "id": "PG-rdHpnm1bn"
      },
      "execution_count": 55,
      "outputs": []
    },
    {
      "cell_type": "code",
      "source": [
        "model = tf.keras.Sequential()\n",
        "model.add(tf.keras.layers.Dense(len(train_x.columns)//2, input_shape = (len(train_x.columns),), activation = tf.keras.activations.sigmoid))\n",
        "model.add(tf.keras.layers.Dense(len(train_x.columns)//np.power(2, 2), activation = tf.keras.activations.sigmoid))\n",
        "model.add(tf.keras.layers.Dense(len(train_x.columns)//np.power(2, 3), activation = tf.keras.activations.sigmoid))\n",
        "model.add(tf.keras.layers.Dense(1, activation = tf.keras.activations.sigmoid))\n",
        "model.compile(optimizer = 'adam', loss = 'mse')\n",
        "\n",
        "model.fit(train_x, train_y, batch_size=32, epochs = 20)\n",
        "\n",
        "train_pred = model.predict(train_x)\n",
        "val_pred = model.predict(val_x)\n",
        "test_pred = model.predict(test_x)\n",
        "\n",
        "print(r2_score(train_y, train_pred))\n",
        "print(r2_score(val_y, val_pred))\n",
        "print(r2_score(test_y, test_pred))"
      ],
      "metadata": {
        "colab": {
          "base_uri": "https://localhost:8080/"
        },
        "id": "DBK48Uo8nQgt",
        "outputId": "d7863255-ebb1-4da3-9656-e4a78ec016c7"
      },
      "execution_count": 56,
      "outputs": [
        {
          "output_type": "stream",
          "name": "stdout",
          "text": [
            "Epoch 1/20\n",
            "1293/1293 [==============================] - 3s 2ms/step - loss: 0.1516\n",
            "Epoch 2/20\n",
            "1293/1293 [==============================] - 2s 2ms/step - loss: 0.0304\n",
            "Epoch 3/20\n",
            "1293/1293 [==============================] - 3s 2ms/step - loss: 0.0240\n",
            "Epoch 4/20\n",
            "1293/1293 [==============================] - 2s 2ms/step - loss: 0.0227\n",
            "Epoch 5/20\n",
            "1293/1293 [==============================] - 3s 2ms/step - loss: 0.0223\n",
            "Epoch 6/20\n",
            "1293/1293 [==============================] - 3s 2ms/step - loss: 0.0222\n",
            "Epoch 7/20\n",
            "1293/1293 [==============================] - 3s 2ms/step - loss: 0.0221\n",
            "Epoch 8/20\n",
            "1293/1293 [==============================] - 3s 2ms/step - loss: 0.0221\n",
            "Epoch 9/20\n",
            "1293/1293 [==============================] - 3s 2ms/step - loss: 0.0221\n",
            "Epoch 10/20\n",
            "1293/1293 [==============================] - 3s 2ms/step - loss: 0.0221\n",
            "Epoch 11/20\n",
            "1293/1293 [==============================] - 3s 2ms/step - loss: 0.0221\n",
            "Epoch 12/20\n",
            "1293/1293 [==============================] - 3s 2ms/step - loss: 0.0221\n",
            "Epoch 13/20\n",
            "1293/1293 [==============================] - 3s 2ms/step - loss: 0.0216\n",
            "Epoch 14/20\n",
            "1293/1293 [==============================] - 3s 2ms/step - loss: 0.0210\n",
            "Epoch 15/20\n",
            "1293/1293 [==============================] - 3s 2ms/step - loss: 0.0209\n",
            "Epoch 16/20\n",
            "1293/1293 [==============================] - 4s 3ms/step - loss: 0.0208\n",
            "Epoch 17/20\n",
            "1293/1293 [==============================] - 3s 2ms/step - loss: 0.0208\n",
            "Epoch 18/20\n",
            "1293/1293 [==============================] - 3s 2ms/step - loss: 0.0207\n",
            "Epoch 19/20\n",
            "1293/1293 [==============================] - 2s 2ms/step - loss: 0.0207\n",
            "Epoch 20/20\n",
            "1293/1293 [==============================] - 3s 2ms/step - loss: 0.0206\n",
            "1293/1293 [==============================] - 2s 1ms/step\n",
            "278/278 [==============================] - 0s 1ms/step\n",
            "278/278 [==============================] - 0s 1ms/step\n",
            "0.07203807131373441\n",
            "0.07743496635528613\n",
            "0.06879453727427598\n"
          ]
        }
      ]
    },
    {
      "cell_type": "code",
      "source": [
        "model = tf.keras.Sequential()\n",
        "model.add(tf.keras.layers.Dense(len(train_x.columns)//2, input_shape = (len(train_x.columns),), activation = tf.keras.activations.sigmoid))\n",
        "model.add(tf.keras.layers.Dense(len(train_x.columns)//np.power(2, 2), activation = tf.keras.activations.sigmoid))\n",
        "model.add(tf.keras.layers.Dense(1, activation = tf.keras.activations.sigmoid))\n",
        "model.compile(optimizer = 'adam', loss = 'mse')\n",
        "\n",
        "model.fit(train_x, train_y, batch_size=32, epochs = 20)\n",
        "\n",
        "train_pred = model.predict(train_x)\n",
        "val_pred = model.predict(val_x)\n",
        "test_pred = model.predict(test_x)\n",
        "\n",
        "print(r2_score(train_y, train_pred))\n",
        "print(r2_score(val_y, val_pred))\n",
        "print(r2_score(test_y, test_pred))"
      ],
      "metadata": {
        "colab": {
          "base_uri": "https://localhost:8080/"
        },
        "outputId": "6ab5af30-cdd2-4b12-dfb8-3473d5345b24",
        "id": "YjFnANmInQgu"
      },
      "execution_count": 57,
      "outputs": [
        {
          "output_type": "stream",
          "name": "stdout",
          "text": [
            "Epoch 1/20\n",
            "1293/1293 [==============================] - 3s 2ms/step - loss: 0.0330\n",
            "Epoch 2/20\n",
            "1293/1293 [==============================] - 3s 2ms/step - loss: 0.0225\n",
            "Epoch 3/20\n",
            "1293/1293 [==============================] - 2s 2ms/step - loss: 0.0222\n",
            "Epoch 4/20\n",
            "1293/1293 [==============================] - 2s 2ms/step - loss: 0.0221\n",
            "Epoch 5/20\n",
            "1293/1293 [==============================] - 2s 2ms/step - loss: 0.0221\n",
            "Epoch 6/20\n",
            "1293/1293 [==============================] - 2s 2ms/step - loss: 0.0221\n",
            "Epoch 7/20\n",
            "1293/1293 [==============================] - 2s 2ms/step - loss: 0.0221\n",
            "Epoch 8/20\n",
            "1293/1293 [==============================] - 2s 2ms/step - loss: 0.0214\n",
            "Epoch 9/20\n",
            "1293/1293 [==============================] - 2s 2ms/step - loss: 0.0210\n",
            "Epoch 10/20\n",
            "1293/1293 [==============================] - 2s 2ms/step - loss: 0.0209\n",
            "Epoch 11/20\n",
            "1293/1293 [==============================] - 3s 2ms/step - loss: 0.0208\n",
            "Epoch 12/20\n",
            "1293/1293 [==============================] - 2s 2ms/step - loss: 0.0208\n",
            "Epoch 13/20\n",
            "1293/1293 [==============================] - 2s 2ms/step - loss: 0.0208\n",
            "Epoch 14/20\n",
            "1293/1293 [==============================] - 2s 2ms/step - loss: 0.0207\n",
            "Epoch 15/20\n",
            "1293/1293 [==============================] - 2s 2ms/step - loss: 0.0207\n",
            "Epoch 16/20\n",
            "1293/1293 [==============================] - 2s 2ms/step - loss: 0.0207\n",
            "Epoch 17/20\n",
            "1293/1293 [==============================] - 2s 2ms/step - loss: 0.0207\n",
            "Epoch 18/20\n",
            "1293/1293 [==============================] - 3s 2ms/step - loss: 0.0206\n",
            "Epoch 19/20\n",
            "1293/1293 [==============================] - 3s 2ms/step - loss: 0.0206\n",
            "Epoch 20/20\n",
            "1293/1293 [==============================] - 3s 2ms/step - loss: 0.0206\n",
            "1293/1293 [==============================] - 2s 1ms/step\n",
            "278/278 [==============================] - 0s 1ms/step\n",
            "278/278 [==============================] - 0s 1ms/step\n",
            "0.07187372889900712\n",
            "0.07681014866521862\n",
            "0.07018911486371937\n"
          ]
        }
      ]
    },
    {
      "cell_type": "code",
      "source": [
        "model = tf.keras.Sequential()\n",
        "model.add(tf.keras.layers.Dense(len(train_x.columns)//2, input_shape = (len(train_x.columns),), activation = tf.keras.activations.sigmoid))\n",
        "model.add(tf.keras.layers.Dense(1, activation = tf.keras.activations.sigmoid))\n",
        "model.compile(optimizer = 'adam', loss = 'mse')\n",
        "\n",
        "model.fit(train_x, train_y, batch_size=32, epochs = 20)\n",
        "\n",
        "train_pred = model.predict(train_x)\n",
        "val_pred = model.predict(val_x)\n",
        "test_pred = model.predict(test_x)\n",
        "\n",
        "print(r2_score(train_y, train_pred))\n",
        "print(r2_score(val_y, val_pred))\n",
        "print(r2_score(test_y, test_pred))"
      ],
      "metadata": {
        "colab": {
          "base_uri": "https://localhost:8080/"
        },
        "id": "_l71o8QXnQgv",
        "outputId": "e097f17e-567b-48b9-9f66-bbb30d62ec24"
      },
      "execution_count": 58,
      "outputs": [
        {
          "output_type": "stream",
          "name": "stdout",
          "text": [
            "Epoch 1/20\n",
            "1293/1293 [==============================] - 3s 2ms/step - loss: 0.0328\n",
            "Epoch 2/20\n",
            "1293/1293 [==============================] - 2s 2ms/step - loss: 0.0225\n",
            "Epoch 3/20\n",
            "1293/1293 [==============================] - 2s 2ms/step - loss: 0.0224\n",
            "Epoch 4/20\n",
            "1293/1293 [==============================] - 2s 2ms/step - loss: 0.0223\n",
            "Epoch 5/20\n",
            "1293/1293 [==============================] - 2s 2ms/step - loss: 0.0222\n",
            "Epoch 6/20\n",
            "1293/1293 [==============================] - 2s 2ms/step - loss: 0.0215\n",
            "Epoch 7/20\n",
            "1293/1293 [==============================] - 2s 2ms/step - loss: 0.0211\n",
            "Epoch 8/20\n",
            "1293/1293 [==============================] - 2s 2ms/step - loss: 0.0210\n",
            "Epoch 9/20\n",
            "1293/1293 [==============================] - 2s 2ms/step - loss: 0.0209\n",
            "Epoch 10/20\n",
            "1293/1293 [==============================] - 2s 2ms/step - loss: 0.0208\n",
            "Epoch 11/20\n",
            "1293/1293 [==============================] - 2s 2ms/step - loss: 0.0208\n",
            "Epoch 12/20\n",
            "1293/1293 [==============================] - 2s 2ms/step - loss: 0.0208\n",
            "Epoch 13/20\n",
            "1293/1293 [==============================] - 2s 2ms/step - loss: 0.0208\n",
            "Epoch 14/20\n",
            "1293/1293 [==============================] - 2s 2ms/step - loss: 0.0207\n",
            "Epoch 15/20\n",
            "1293/1293 [==============================] - 2s 2ms/step - loss: 0.0207\n",
            "Epoch 16/20\n",
            "1293/1293 [==============================] - 2s 2ms/step - loss: 0.0207\n",
            "Epoch 17/20\n",
            "1293/1293 [==============================] - 2s 2ms/step - loss: 0.0207\n",
            "Epoch 18/20\n",
            "1293/1293 [==============================] - 2s 2ms/step - loss: 0.0206\n",
            "Epoch 19/20\n",
            "1293/1293 [==============================] - 2s 2ms/step - loss: 0.0206\n",
            "Epoch 20/20\n",
            "1293/1293 [==============================] - 2s 2ms/step - loss: 0.0206\n",
            "1293/1293 [==============================] - 2s 1ms/step\n",
            "278/278 [==============================] - 0s 1ms/step\n",
            "278/278 [==============================] - 0s 1ms/step\n",
            "0.07099216213572945\n",
            "0.07500671594778507\n",
            "0.06857639326238163\n"
          ]
        }
      ]
    },
    {
      "cell_type": "code",
      "source": [
        "model = tf.keras.Sequential()\n",
        "model.add(tf.keras.layers.Dense(3*len(train_x.columns)//4, input_shape = (len(train_x.columns),), activation = tf.keras.activations.sigmoid))\n",
        "model.add(tf.keras.layers.Dense(2*len(train_x.columns)//4, activation = tf.keras.activations.sigmoid))\n",
        "model.add(tf.keras.layers.Dense(len(train_x.columns)//4, activation = tf.keras.activations.sigmoid))\n",
        "model.add(tf.keras.layers.Dense(1, activation = tf.keras.activations.sigmoid))\n",
        "model.compile(optimizer = 'adam', loss = 'mse')\n",
        "\n",
        "model.fit(train_x, train_y, batch_size=32, epochs = 20)\n",
        "\n",
        "train_pred = model.predict(train_x)\n",
        "val_pred = model.predict(val_x)\n",
        "test_pred = model.predict(test_x)\n",
        "\n",
        "print(r2_score(train_y, train_pred))\n",
        "print(r2_score(val_y, val_pred))\n",
        "print(r2_score(test_y, test_pred))"
      ],
      "metadata": {
        "colab": {
          "base_uri": "https://localhost:8080/"
        },
        "id": "s3DmVuxXnQgv",
        "outputId": "b13d7ffb-4065-43b4-e135-7c6ecb77c2be"
      },
      "execution_count": 59,
      "outputs": [
        {
          "output_type": "stream",
          "name": "stdout",
          "text": [
            "Epoch 1/20\n",
            "1293/1293 [==============================] - 3s 2ms/step - loss: 0.0263\n",
            "Epoch 2/20\n",
            "1293/1293 [==============================] - 3s 2ms/step - loss: 0.0221\n",
            "Epoch 3/20\n",
            "1293/1293 [==============================] - 3s 2ms/step - loss: 0.0221\n",
            "Epoch 4/20\n",
            "1293/1293 [==============================] - 3s 2ms/step - loss: 0.0221\n",
            "Epoch 5/20\n",
            "1293/1293 [==============================] - 3s 2ms/step - loss: 0.0221\n",
            "Epoch 6/20\n",
            "1293/1293 [==============================] - 3s 2ms/step - loss: 0.0214\n",
            "Epoch 7/20\n",
            "1293/1293 [==============================] - 2s 2ms/step - loss: 0.0209\n",
            "Epoch 8/20\n",
            "1293/1293 [==============================] - 3s 3ms/step - loss: 0.0207\n",
            "Epoch 9/20\n",
            "1293/1293 [==============================] - 4s 3ms/step - loss: 0.0207\n",
            "Epoch 10/20\n",
            "1293/1293 [==============================] - 3s 2ms/step - loss: 0.0207\n",
            "Epoch 11/20\n",
            "1293/1293 [==============================] - 3s 2ms/step - loss: 0.0206\n",
            "Epoch 12/20\n",
            "1293/1293 [==============================] - 3s 2ms/step - loss: 0.0206\n",
            "Epoch 13/20\n",
            "1293/1293 [==============================] - 3s 2ms/step - loss: 0.0205\n",
            "Epoch 14/20\n",
            "1293/1293 [==============================] - 3s 2ms/step - loss: 0.0205\n",
            "Epoch 15/20\n",
            "1293/1293 [==============================] - 3s 2ms/step - loss: 0.0205\n",
            "Epoch 16/20\n",
            "1293/1293 [==============================] - 3s 2ms/step - loss: 0.0205\n",
            "Epoch 17/20\n",
            "1293/1293 [==============================] - 3s 2ms/step - loss: 0.0204\n",
            "Epoch 18/20\n",
            "1293/1293 [==============================] - 3s 2ms/step - loss: 0.0204\n",
            "Epoch 19/20\n",
            "1293/1293 [==============================] - 3s 2ms/step - loss: 0.0204\n",
            "Epoch 20/20\n",
            "1293/1293 [==============================] - 3s 2ms/step - loss: 0.0204\n",
            "1293/1293 [==============================] - 2s 1ms/step\n",
            "278/278 [==============================] - 0s 1ms/step\n",
            "278/278 [==============================] - 0s 1ms/step\n",
            "0.08181720715134366\n",
            "0.08799133421695471\n",
            "0.0801757218274941\n"
          ]
        }
      ]
    },
    {
      "cell_type": "code",
      "source": [
        "model = tf.keras.Sequential()\n",
        "model.add(tf.keras.layers.Dense(2*len(train_x.columns)//3, input_shape = (len(train_x.columns),), activation = tf.keras.activations.sigmoid))\n",
        "model.add(tf.keras.layers.Dense(len(train_x.columns)//3, activation = tf.keras.activations.sigmoid))\n",
        "model.add(tf.keras.layers.Dense(1, activation = tf.keras.activations.sigmoid))\n",
        "model.compile(optimizer = 'adam', loss = 'mse')\n",
        "\n",
        "model.fit(train_x, train_y, batch_size=32, epochs = 20)\n",
        "\n",
        "train_pred = model.predict(train_x)\n",
        "val_pred = model.predict(val_x)\n",
        "test_pred = model.predict(test_x)\n",
        "\n",
        "print(r2_score(train_y, train_pred))\n",
        "print(r2_score(val_y, val_pred))\n",
        "print(r2_score(test_y, test_pred))"
      ],
      "metadata": {
        "colab": {
          "base_uri": "https://localhost:8080/"
        },
        "id": "tw0P9dvWnQgv",
        "outputId": "dd66875d-3386-4581-e1ec-715249098dc8"
      },
      "execution_count": 60,
      "outputs": [
        {
          "output_type": "stream",
          "name": "stdout",
          "text": [
            "Epoch 1/20\n",
            "1293/1293 [==============================] - 3s 2ms/step - loss: 0.0438\n",
            "Epoch 2/20\n",
            "1293/1293 [==============================] - 3s 2ms/step - loss: 0.0224\n",
            "Epoch 3/20\n",
            "1293/1293 [==============================] - 2s 2ms/step - loss: 0.0222\n",
            "Epoch 4/20\n",
            "1293/1293 [==============================] - 3s 2ms/step - loss: 0.0221\n",
            "Epoch 5/20\n",
            "1293/1293 [==============================] - 2s 2ms/step - loss: 0.0221\n",
            "Epoch 6/20\n",
            "1293/1293 [==============================] - 3s 2ms/step - loss: 0.0221\n",
            "Epoch 7/20\n",
            "1293/1293 [==============================] - 3s 2ms/step - loss: 0.0221\n",
            "Epoch 8/20\n",
            "1293/1293 [==============================] - 3s 2ms/step - loss: 0.0219\n",
            "Epoch 9/20\n",
            "1293/1293 [==============================] - 3s 2ms/step - loss: 0.0211\n",
            "Epoch 10/20\n",
            "1293/1293 [==============================] - 2s 2ms/step - loss: 0.0209\n",
            "Epoch 11/20\n",
            "1293/1293 [==============================] - 3s 2ms/step - loss: 0.0208\n",
            "Epoch 12/20\n",
            "1293/1293 [==============================] - 3s 2ms/step - loss: 0.0207\n",
            "Epoch 13/20\n",
            "1293/1293 [==============================] - 3s 2ms/step - loss: 0.0207\n",
            "Epoch 14/20\n",
            "1293/1293 [==============================] - 3s 2ms/step - loss: 0.0207\n",
            "Epoch 15/20\n",
            "1293/1293 [==============================] - 3s 2ms/step - loss: 0.0206\n",
            "Epoch 16/20\n",
            "1293/1293 [==============================] - 3s 2ms/step - loss: 0.0206\n",
            "Epoch 17/20\n",
            "1293/1293 [==============================] - 3s 2ms/step - loss: 0.0206\n",
            "Epoch 18/20\n",
            "1293/1293 [==============================] - 3s 2ms/step - loss: 0.0205\n",
            "Epoch 19/20\n",
            "1293/1293 [==============================] - 3s 2ms/step - loss: 0.0205\n",
            "Epoch 20/20\n",
            "1293/1293 [==============================] - 3s 2ms/step - loss: 0.0205\n",
            "1293/1293 [==============================] - 2s 1ms/step\n",
            "278/278 [==============================] - 0s 1ms/step\n",
            "278/278 [==============================] - 0s 1ms/step\n",
            "0.07504446178379154\n",
            "0.0803981310974804\n",
            "0.07289879175016056\n"
          ]
        }
      ]
    }
  ]
}